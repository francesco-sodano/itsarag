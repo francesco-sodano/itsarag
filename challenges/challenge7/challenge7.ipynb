{
 "cells": [
  {
   "cell_type": "markdown",
   "metadata": {},
   "source": [
    "## Challenge 7: Deploy your App\n",
    "\n",
    "### Create the final index (it will take around 25 minutes)"
   ]
  },
  {
   "cell_type": "code",
   "execution_count": 7,
   "metadata": {},
   "outputs": [],
   "source": [
    "import sys, os, dotenv\n",
    "dotenv.load_dotenv()\n",
    "sys.path.insert(0, os.path.abspath(os.path.join(os.getcwd(), '../../lib')))\n",
    "\n",
    "# Setup environment\n",
    "\n",
    "# OpenAI\n",
    "AZURE_OPENAI_API_KEY = os.getenv(\"AZURE_OPENAI_API_KEY\")\n",
    "AZURE_OPENAI_ENDPOINT = os.getenv(\"AZURE_OPENAI_ENDPOINT\")\n",
    "AZURE_OPENAI_API_VERSION = os.getenv(\"AZURE_OPENAI_API_VERSION\")\n",
    "AZURE_OPENAI_MODEL = os.getenv(\"AZURE_OPENAI_MODEL\")\n",
    "AZURE_OPENAI_DEPLOYMENT_NAME = os.getenv(\"AZURE_OPENAI_DEPLOYMENT_NAME\")\n",
    "AZURE_OPENAI_EMBEDDING = os.getenv(\"AZURE_OPENAI_EMBEDDING\")\n",
    "# Azure Search\n",
    "AZURE_SEARCH_ENDPOINT = os.getenv(\"AZURE_SEARCH_ENDPOINT\")\n",
    "AZURE_SEARCH_API_KEY = os.getenv(\"AZURE_SEARCH_API_KEY\")\n",
    "AZURE_SEARCH_INDEX = \"itsarag-fullindex\"\n",
    "# Azure AI Document Intelligence\n",
    "AZURE_DOCUMENT_INTELLIGENCE_ENDPOINT = os.getenv(\"AZURE_DOCUMENT_INTELLIGENCE_ENDPOINT\")\n",
    "AZURE_DOCUMENT_INTELLIGENCE_API_KEY = os.getenv(\"AZURE_DOCUMENT_INTELLIGENCE_API_KEY\")\n",
    "# Azure Blob Storage\n",
    "AZURE_STORAGE_CONNECTION_STRING = os.getenv(\"AZURE_STORAGE_CONNECTION_STRING\")\n",
    "AZURE_STORAGE_CONTAINER = os.getenv(\"AZURE_STORAGE_CONTAINER\")\n",
    "AZURE_STORAGE_FOLDER = os.getenv(\"AZURE_STORAGE_FOLDER\")\n",
    "\n",
    "# Import Libraries\n",
    "import os\n",
    "from azure.ai.documentintelligence.models import DocumentAnalysisFeature\n",
    "\n",
    "# Custom Libraries\n",
    "from its_a_rag.doc_intelligence import AzureAIDocumentIntelligenceLoader\n",
    "from its_a_rag import ingestion"
   ]
  },
  {
   "cell_type": "code",
   "execution_count": 8,
   "metadata": {},
   "outputs": [],
   "source": [
    "# Create the index for Azure Search store and Embedding\n",
    "vector_store_multimodal, aoai_embeddings = ingestion.create_multimodal_vector_store(AZURE_SEARCH_INDEX, \n",
    "                                                                           AZURE_OPENAI_API_KEY, \n",
    "                                                                           AZURE_OPENAI_ENDPOINT,\n",
    "                                                                           AZURE_OPENAI_API_VERSION,\n",
    "                                                                           AZURE_OPENAI_EMBEDDING, \n",
    "                                                                           AZURE_SEARCH_ENDPOINT, \n",
    "                                                                           AZURE_SEARCH_API_KEY)"
   ]
  },
  {
   "cell_type": "code",
   "execution_count": null,
   "metadata": {},
   "outputs": [],
   "source": [
    "# Index\n",
    "\n",
    "# Index: Load files\n",
    "\n",
    "# Get list of files in a local folder\n",
    "folder = os.path.join(os.getcwd(), '../../../its-a-rag/data/fsi/pdf') # TODO: FIX ME\n",
    "files = [f for f in os.listdir(folder) if os.path.isfile(os.path.join(folder, f))]\n",
    "files = [os.path.join(folder, f) for f in files]\n",
    "\n",
    "# For each file\n",
    "for file in files:\n",
    "    # Get the file name\n",
    "    pdf_file_name = file.split(\"\\\\\")[-1]\n",
    "    # Index : Load the file and create a document\n",
    "    print(\"Processing: \", file)\n",
    "    loader = AzureAIDocumentIntelligenceLoader(file_path=file, \n",
    "                                           api_key = AZURE_DOCUMENT_INTELLIGENCE_API_KEY, \n",
    "                                           api_endpoint = AZURE_DOCUMENT_INTELLIGENCE_ENDPOINT,\n",
    "                                           api_model=\"prebuilt-layout\",\n",
    "                                           api_version=\"2024-02-29-preview\",\n",
    "                                           analysis_features = [DocumentAnalysisFeature.OCR_HIGH_RESOLUTION])\n",
    "    docs = loader.load()\n",
    "    # Index : Split\n",
    "    docs = ingestion.advanced_text_splitter(docs,pdf_file_name)\n",
    "    # Index : Store\n",
    "    vector_store_multimodal.add_documents(documents=docs)\n",
    "    print (\"Indexed: \", pdf_file_name)"
   ]
  }
 ],
 "metadata": {
  "kernelspec": {
   "display_name": ".venv",
   "language": "python",
   "name": "python3"
  },
  "language_info": {
   "codemirror_mode": {
    "name": "ipython",
    "version": 3
   },
   "file_extension": ".py",
   "mimetype": "text/x-python",
   "name": "python",
   "nbconvert_exporter": "python",
   "pygments_lexer": "ipython3",
   "version": "3.10.11"
  }
 },
 "nbformat": 4,
 "nbformat_minor": 2
}
