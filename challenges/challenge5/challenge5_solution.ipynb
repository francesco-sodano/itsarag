{
 "cells": [
  {
   "cell_type": "markdown",
   "metadata": {},
   "source": [
    "# Challenge 5: Multi-Source, Multi-Agent\n",
    "## Introduction\n",
    "\n",
    "In this part of the challenge you will add another source of data (structured) to the solution."
   ]
  },
  {
   "cell_type": "markdown",
   "metadata": {},
   "source": [
    "### Importing the libraries"
   ]
  },
  {
   "cell_type": "code",
   "execution_count": 10,
   "metadata": {},
   "outputs": [],
   "source": [
    "from langchain_openai import AzureChatOpenAI\n",
    "from langchain.agents import create_sql_agent\n",
    "from langchain.agents.agent_toolkits import SQLDatabaseToolkit\n",
    "from langchain_community.utilities import SQLDatabase\n",
    "from langchain.prompts.chat import ChatPromptTemplate\n",
    "from langchain_core.output_parsers import StrOutputParser"
   ]
  },
  {
   "cell_type": "markdown",
   "metadata": {},
   "source": [
    "### Create Environment Variables\n",
    "\n",
    "**Important:** Make sure you update your `.env` file."
   ]
  },
  {
   "cell_type": "code",
   "execution_count": 11,
   "metadata": {},
   "outputs": [],
   "source": [
    "import os, dotenv,sys\n",
    "dotenv.load_dotenv()\n",
    "\n",
    "sys.path.insert(0, os.path.abspath(os.path.join(os.getcwd(), '../../lib')))\n",
    "\n",
    "\n",
    "# Setup environment\n",
    "AZURE_OPENAI_API_KEY = os.getenv(\"AZURE_OPENAI_API_KEY\")\n",
    "AZURE_OPENAI_ENDPOINT = os.getenv(\"AZURE_OPENAI_ENDPOINT\")\n",
    "AZURE_OPENAI_API_VERSION = os.getenv(\"AZURE_OPENAI_API_VERSION\")\n",
    "AZURE_OPENAI_MODEL = os.getenv(\"AZURE_OPENAI_MODEL\")\n",
    "AZURE_OPENAI_DEPLOYMENT_NAME = os.getenv(\"AZURE_OPENAI_DEPLOYMENT_NAME\")\n",
    "AZURE_OPENAI_EMBEDDING = os.getenv(\"AZURE_OPENAI_EMBEDDING\")\n",
    "# Azure Search\n",
    "AZURE_SEARCH_ENDPOINT = os.getenv(\"AZURE_SEARCH_ENDPOINT\")\n",
    "AZURE_SEARCH_API_KEY = os.getenv(\"AZURE_SEARCH_API_KEY\")\n",
    "AZURE_SEARCH_INDEX = os.getenv(\"AZURE_SEARCH_INDEX\")\n",
    "# Azure AI Document Intelligence\n",
    "AZURE_DOCUMENT_INTELLIGENCE_ENDPOINT = os.getenv(\"AZURE_DOCUMENT_INTELLIGENCE_ENDPOINT\")\n",
    "AZURE_DOCUMENT_INTELLIGENCE_API_KEY = os.getenv(\"AZURE_DOCUMENT_INTELLIGENCE_API_KEY\")\n",
    "# Azure Blob Storage\n",
    "AZURE_STORAGE_CONNECTION_STRING = os.getenv(\"AZURE_STORAGE_CONNECTION_STRING\")\n",
    "AZURE_STORAGE_CONTAINER = os.getenv(\"AZURE_STORAGE_CONTAINER\")\n",
    "AZURE_STORAGE_FOLDER = os.getenv(\"AZURE_STORAGE_FOLDER\")\n",
    "\n",
    "# Local Folder for the documents\n",
    "LOCAL_FOLDER = \"D:\\fsi2023\"\n",
    "\n",
    "# SQL Database\n",
    "SQL_SERVER = os.getenv(\"SQL_SERVER\")\n",
    "SQL_DB = os.getenv(\"SQL_DB\")\n",
    "SQL_USERNAME = os.getenv(\"SQL_USERNAME\")\n",
    "SQL_PWD = os.getenv(\"SQL_PWD\")\n",
    "SQL_DRIVER = os.getenv(\"SQL_DRIVER\")"
   ]
  },
  {
   "cell_type": "markdown",
   "metadata": {},
   "source": [
    "Make Sure you have the ODBC driver installed"
   ]
  },
  {
   "cell_type": "code",
   "execution_count": 12,
   "metadata": {},
   "outputs": [
    {
     "name": "stdout",
     "output_type": "stream",
     "text": [
      "['SQL Server', 'ODBC Driver 18 for SQL Server', 'Microsoft Access Driver (*.mdb, *.accdb)', 'Microsoft Excel Driver (*.xls, *.xlsx, *.xlsm, *.xlsb)', 'Microsoft Access Text Driver (*.txt, *.csv)', 'Microsoft Access dBASE Driver (*.dbf, *.ndx, *.mdx)']\n"
     ]
    }
   ],
   "source": [
    "# Check the installed ODBC drivers (you should have installed the \"ODBC Driver 18 for SQL Server\")\n",
    "import pyodbc\n",
    "\n",
    "print(pyodbc.drivers())\n",
    "assert os.getenv('SQL_DRIVER') in pyodbc.drivers()"
   ]
  },
  {
   "cell_type": "markdown",
   "metadata": {},
   "source": [
    "## Step 1: Import data to the SQL Database\n",
    "\n",
    "The database provided is an Azure SQL Database.\n",
    "Upload the data to the SQL Database using the `./data/fsi/db/create_stock_table.sql` script.\n",
    "\n",
    "The script will create a table named \"stock\" in the provided database.\n",
    "The table contains the following columns:\n",
    "- **Date** DATE\n",
    "- **CloseLast** DECIMAL(10, 2) \n",
    "- **Volume** INT\n",
    "- **Open** DECIMAL(10, 2)\n",
    "- **High** DECIMAL(10, 2)\n",
    "- **Low** DECIMAL(10, 2)\n",
    "- **Symbol** VARCHAR(10)"
   ]
  },
  {
   "cell_type": "code",
   "execution_count": 13,
   "metadata": {},
   "outputs": [],
   "source": [
    "# Create the Connection to the SQL Server Database (sqlalchemy)\n",
    "from sqlalchemy import create_engine, text\n",
    "from urllib.parse import quote_plus\n",
    "\n",
    "connection_string = f\"Driver={SQL_DRIVER};Server=tcp:{SQL_SERVER},1433;Database={SQL_DB};Uid={SQL_USERNAME};Pwd={SQL_PWD};Encrypt=yes;TrustServerCertificate=no;Connection Timeout=30;\"\n",
    "quoted_conn_str = quote_plus(connection_string)\n",
    "# Create the sqlalchemy engine (mssql+pyodbc)\n",
    "engine = create_engine('mssql+pyodbc:///?odbc_connect={}'.format(quoted_conn_str))\n"
   ]
  },
  {
   "cell_type": "code",
   "execution_count": null,
   "metadata": {},
   "outputs": [],
   "source": [
    "# Create the Stock Table in the SQL Server Database\n",
    "with open('../../data/fsi/db/create_stock_table.sql', 'r') as file:\n",
    "    sql_statements = file.read()\n",
    "\n",
    "# Execute the SQL Statements\n",
    "with engine.connect() as connection:\n",
    "    for command in sql_statements.split('GO'):\n",
    "        command = command.strip()\n",
    "        if command:\n",
    "            connection.execute(text(command))\n",
    "    connection.execute(text(\"commit\"))"
   ]
  },
  {
   "cell_type": "markdown",
   "metadata": {},
   "source": [
    "## Step 2: Create a LangChain SQL Agent"
   ]
  },
  {
   "cell_type": "code",
   "execution_count": 14,
   "metadata": {},
   "outputs": [],
   "source": [
    "# Create the Azure OpenAI Chat Client\n",
    "llm = AzureChatOpenAI(api_key = AZURE_OPENAI_API_KEY,  \n",
    "                      api_version = \"2024-06-01\",\n",
    "                      azure_endpoint = AZURE_OPENAI_ENDPOINT,\n",
    "                      model= AZURE_OPENAI_DEPLOYMENT_NAME,\n",
    "                      streaming=True)"
   ]
  },
  {
   "cell_type": "code",
   "execution_count": 15,
   "metadata": {},
   "outputs": [],
   "source": [
    "# Create the LangChain SQL Database Object and the SQL Database Toolkit Object to be used by the agent.\n",
    "db = SQLDatabase(engine=engine)\n",
    "stock_toolkit = SQLDatabaseToolkit(db=db, llm=llm)"
   ]
  },
  {
   "cell_type": "code",
   "execution_count": 16,
   "metadata": {},
   "outputs": [],
   "source": [
    "# Create the agent using the Langhcain SQL Agent Class (create_sql_agent)\n",
    "stock_agent = create_sql_agent(\n",
    "    toolkit=stock_toolkit,\n",
    "    llm=llm,\n",
    "    agent_type=\"openai-tools\",\n",
    "    agent_name=\"StockAgent\",\n",
    "    agent_description=\"Stock Agent\",\n",
    "    agent_version=\"0.1\",\n",
    "    agent_author=\"itsarag\",\n",
    "    #verbose=True,\n",
    "    agent_executor_kwargs=dict(handle_parsing_errors=True))"
   ]
  },
  {
   "cell_type": "code",
   "execution_count": 17,
   "metadata": {},
   "outputs": [],
   "source": [
    "# Structure the final prompt from the ChatPromptTemplate\n",
    "# include the system message to the user message\n",
    "# System message: You are a helpful AI assistant expert in querying SQL Database to find answers to user's question about stock prices. If you can't find the answer, say 'I am unable to find the answer.'\n",
    "final_prompt = ChatPromptTemplate.from_messages(\n",
    "    [\n",
    "        (\"system\", \n",
    "         \"\"\"\n",
    "          You are a helpful AI assistant expert in querying SQL Database to find answers to user's question about stock prices.\n",
    "          If you can't find the answer, say 'I am unable to find the answer.'\n",
    "         \"\"\"\n",
    "         ),\n",
    "        (\"user\", \"{question}\\n ai: \"),\n",
    "    ]\n",
    ")"
   ]
  },
  {
   "cell_type": "code",
   "execution_count": 18,
   "metadata": {},
   "outputs": [
    {
     "name": "stdout",
     "output_type": "stream",
     "text": [
      "On 23/07/2024, the closing prices for the stocks were as follows:\n",
      "\n",
      "- Apple (AAPL): $225.01\n",
      "- Nvidia (NVDA): $122.59\n",
      "- Microsoft (MSFT): $444.85\n"
     ]
    }
   ],
   "source": [
    "# Test the agent\n",
    "response = stock_agent.invoke(final_prompt.format(question=\"What was the price of Apple,Nvidia and Microsoft stock in 23/07/2024?\"))\n",
    "print(response['output'])"
   ]
  },
  {
   "cell_type": "markdown",
   "metadata": {},
   "source": [
    "## Step 3: Create the Multi Agent Solution"
   ]
  },
  {
   "cell_type": "code",
   "execution_count": 43,
   "metadata": {},
   "outputs": [],
   "source": [
    "import sys, os\n",
    "sys.path.insert(0, os.path.abspath(os.path.join(os.getcwd(), '../../lib')))\n",
    "\n",
    "## Import the necessary libraries\n",
    "\n",
    "from typing import Annotated, Sequence\n",
    "from pydantic import BaseModel, Field\n",
    "from typing_extensions import TypedDict\n",
    "from langchain_core.messages import BaseMessage\n",
    "from langchain_core.runnables import RunnableLambda, RunnablePassthrough\n",
    "from langchain_core.output_parsers import StrOutputParser\n",
    "from langchain_core.prompts import PromptTemplate\n",
    "from langchain_community.retrievers import AzureAISearchRetriever\n",
    "from langchain_openai import AzureChatOpenAI\n",
    "from langchain_core.messages import BaseMessage\n",
    "from langgraph.graph.message import add_messages\n",
    "from langgraph.prebuilt import tools_condition\n",
    "from langgraph.graph import StateGraph, END\n",
    "from urllib.parse import quote_plus \n",
    "from its_a_rag import ingestion\n",
    "from sqlalchemy import create_engine\n",
    "from langchain.agents import create_sql_agent\n",
    "from langchain.agents.agent_toolkits import SQLDatabaseToolkit\n",
    "from langchain_community.utilities import SQLDatabase\n",
    "from langchain.prompts.chat import ChatPromptTemplate"
   ]
  },
  {
   "cell_type": "code",
   "execution_count": 44,
   "metadata": {},
   "outputs": [],
   "source": [
    "# Create the Azure OpenAI Chat Client\n",
    "llm = AzureChatOpenAI(api_key = AZURE_OPENAI_API_KEY,  \n",
    "                      api_version = \"2024-06-01\",\n",
    "                      azure_endpoint = AZURE_OPENAI_ENDPOINT,\n",
    "                      model= AZURE_OPENAI_DEPLOYMENT_NAME,\n",
    "                      streaming=True)"
   ]
  },
  {
   "cell_type": "code",
   "execution_count": 45,
   "metadata": {},
   "outputs": [],
   "source": [
    "# Create the Agent State Class to store the messages between the agents\n",
    "class AgentState(TypedDict):\n",
    "    # The add_messages function defines how an update should be processed\n",
    "    # Default is to replace. add_messages says \"append\"\n",
    "    messages: Annotated[Sequence[BaseMessage], add_messages]"
   ]
  },
  {
   "cell_type": "code",
   "execution_count": 46,
   "metadata": {},
   "outputs": [],
   "source": [
    "# Create the start_agent that analyze the user question and decide if the question is related to stock prices or financial results\n",
    "def start_agent(state):\n",
    "    # Import the global llm\n",
    "    global llm\n",
    "    start_agent_llm = llm\n",
    "    # Prepare the prompt for the agent\n",
    "    # Prompt Example: You are an agent that needs analyze the user question. \\n Question : {input} \\n if the question is related to stock prices answer with \"stock\". \\n if the question is related to information about financial results answer with \"rag\". \\n if the question is unclear or you cannot decide answer with \"rag\". \\n only answer with one of the word provided. Your answer (stock/rag):\n",
    "    prompt = PromptTemplate.from_template(\"\"\"\n",
    "    You are an agent that needs analyze the user question. \\n\n",
    "    Question : {input} \\n\n",
    "    if the question is related to stock prices answer with \"stock\". \\n\n",
    "    if the question is related to information about financial results answer with \"rag\". \\n\n",
    "    if the question is unclear or you cannot decide answer with \"rag\". \\n\n",
    "    only answer with one of the word provided.\n",
    "    Your answer (stock/rag):\n",
    "    \"\"\")\n",
    "    # Prepare the chain to be executed\n",
    "    chain = prompt | start_agent_llm\n",
    "    # invoke the chain\n",
    "    response = chain.invoke({\"input\": state[\"input\"]})\n",
    "    # take the decision from the response\n",
    "    decision = response.content.strip().lower()\n",
    "    # Return the response for the next agent (decision and input required coming fron the Agent State)\n",
    "    return {\"decision\": decision, \"input\": state[\"input\"]}"
   ]
  },
  {
   "cell_type": "code",
   "execution_count": 47,
   "metadata": {},
   "outputs": [],
   "source": [
    "## Stock Agent\n",
    "\n",
    "def stock_agent(state):\n",
    "    # Import the LLM\n",
    "    global llm\n",
    "    stock_agent_llm = llm\n",
    "    # Create the DB Connection\n",
    "    connection_string = f\"Driver={SQL_DRIVER};Server=tcp:{SQL_SERVER},1433;Database={SQL_DB};Uid={SQL_USERNAME};Pwd={SQL_PWD};Encrypt=yes;TrustServerCertificate=no;Connection Timeout=30;\"\n",
    "    quoted_conn_str = quote_plus(connection_string)\n",
    "    engine = create_engine('mssql+pyodbc:///?odbc_connect={}'.format(quoted_conn_str))\n",
    "    # Create the SQL Database Object and the SQL Database Toolkit Object to be used by the agent.\n",
    "    db = SQLDatabase(engine=engine)\n",
    "    stock_toolkit = SQLDatabaseToolkit(db=db, llm=stock_agent_llm)\n",
    "    # Create the agent using the Langhcain SQL Agent Class (create_sql_agent)\n",
    "    stock_agent = create_sql_agent(\n",
    "        toolkit=stock_toolkit,\n",
    "        llm=stock_agent_llm,\n",
    "        agent_type=\"openai-tools\",\n",
    "        agent_name=\"StockAgent\",\n",
    "        agent_description=\"Stock Agent\",\n",
    "        agent_version=\"0.1\",\n",
    "        agent_author=\"itsarag\",\n",
    "        #verbose=True,\n",
    "        agent_executor_kwargs=dict(handle_parsing_errors=True))\n",
    "    # Structure the final prompt from the ChatPromptTemplate\n",
    "    final_prompt = ChatPromptTemplate.from_messages(\n",
    "        [\n",
    "            (\"system\", \n",
    "            \"\"\"\n",
    "            You are a helpful AI assistant expert in querying SQL Database to find answers to user's question about stock prices. \\n\n",
    "            If you can't find the answer, say 'I am unable to find the answer.'\n",
    "            \"\"\"\n",
    "            ),\n",
    "            (\"user\", \"{question}\\n ai: \"),\n",
    "        ]\n",
    "    )\n",
    "    # Prepare the response using the invoke method of the agent\n",
    "    response = stock_agent.invoke(final_prompt.format(question=state[\"input\"]))\n",
    "    # Return the response for the next agent (output and input required coming fron the Agent State)\n",
    "    return {\"output\": response[\"output\"], \"input\": state[\"input\"]}"
   ]
  },
  {
   "cell_type": "code",
   "execution_count": 48,
   "metadata": {},
   "outputs": [],
   "source": [
    "## Node rag (this is a clean implementation of the RAG Agent completed in Challenge 4)\n",
    "\n",
    "def rag_agent(state):\n",
    "    # Define the LLM\n",
    "    global llm\n",
    "    rag_agent_llm = llm\n",
    "    # Define the index (use the one created in the previous challenge)\n",
    "    retriever_multimodal = AzureAISearchRetriever(index_name=AZURE_SEARCH_INDEX, api_key=AZURE_SEARCH_API_KEY, service_name=AZURE_SEARCH_ENDPOINT, top_k=5)\n",
    "    # Define the chain (as it was in the previous challenge)\n",
    "    chain_multimodal_rag = (\n",
    "    {\n",
    "        \"context\": retriever_multimodal | RunnableLambda(ingestion.get_image_description),\n",
    "        \"question\": RunnablePassthrough(),\n",
    "    }\n",
    "    | RunnableLambda(ingestion.multimodal_prompt)\n",
    "    | rag_agent_llm\n",
    "    | StrOutputParser()\n",
    "    )\n",
    "    # prepare the response using the invoke method of the agent\n",
    "    response = chain_multimodal_rag.invoke({\"input\": state[\"input\"]})\n",
    "    # Return the response for the next agent (output and input required coming from the Agent State)\n",
    "    return {\"output\": response, \"input\": state[\"input\"]}"
   ]
  },
  {
   "cell_type": "code",
   "execution_count": 49,
   "metadata": {},
   "outputs": [],
   "source": [
    "# Create the Agent State Class to store the messages between the agents\n",
    "# this should include the input, output and decision as strings\n",
    "class AgentState(TypedDict):\n",
    "    input: str\n",
    "    output: str\n",
    "    decision: str\n",
    "\n",
    "# Create the 3 steps graph that is going to be working in the bellow \"decision\" condition\n",
    "# Add nodes (start_agent, stock_agent, rag_agent) and conditional edges where the decision with be stock or rag\n",
    "def create_graph():\n",
    "    # Create the Workflow as StateGraph using the AgentState\n",
    "    workflow = StateGraph(AgentState)\n",
    "    # Add the nodes (start_agent, stock_agent, rag_agent)\n",
    "    workflow.add_node(\"start\", start_agent)\n",
    "    workflow.add_node(\"stock_agent\", stock_agent)\n",
    "    workflow.add_node(\"rag_agent\", rag_agent)\n",
    "    # Add the conditional edge from start -> lamba (decision) -> stock_agent or rag_agent\n",
    "    workflow.add_conditional_edges(\n",
    "        \"start\",\n",
    "        lambda x: x[\"decision\"],\n",
    "        {\n",
    "            \"stock\": \"stock_agent\",\n",
    "            \"rag\": \"rag_agent\"\n",
    "        }\n",
    "    )\n",
    "    # Set the workflow entry point\n",
    "    workflow.set_entry_point(\"start\")\n",
    "    # Add the final edges to the END node\n",
    "    workflow.add_edge(\"stock_agent\", END)\n",
    "    workflow.add_edge(\"rag_agent\", END)\n",
    "    #Compile the workflow\n",
    "    return workflow.compile()"
   ]
  },
  {
   "cell_type": "markdown",
   "metadata": {},
   "source": [
    "### Step 4: Test the Solution"
   ]
  },
  {
   "cell_type": "code",
   "execution_count": 50,
   "metadata": {},
   "outputs": [
    {
     "name": "stdout",
     "output_type": "stream",
     "text": [
      "On 23/07/2024, the closing prices for the stocks were as follows:\n",
      "- Apple (AAPL): $225.01\n",
      "- Nvidia (NVDA): $122.59\n",
      "- Microsoft (MSFT): $444.85\n",
      "I don't know.\n",
      "I don't have the revenue data for Intel for the years 2019 to 2023 in the provided context.\n",
      "I don't know. The provided context does not include information about the Intel CEO in 2023.\n"
     ]
    }
   ],
   "source": [
    "## Test Solution\n",
    "\n",
    "# intantiate the graph (create_graph)\n",
    "graph = create_graph()\n",
    "\n",
    "# Use the graph invoke to answer the questions\n",
    "# Test the graph with various questions\n",
    "questions = [\n",
    "    \"What are the revenues of Google in the year 2000?\",\n",
    "    \"What are the revenues and the operative margins of Alphabet Inc. in 2022 and how it compares with the previous year?\",\n",
    "    \"Can you compare and create a table with the revenue of Alphabet Inc., NVIDIA, MICROSOFT, APPLE and AMAZON in years 2023?\",\n",
    "    \"Did APPLE repurchase common stock in 2023? create a table of Apple repurchased stock with date, numbers of stocks and values in dollars.\",\n",
    "    \"Can you give me the Fiscal Year 2023 Highlights for Apple, Microsoft, Nvidia and Google?\"\n",
    "]\n",
    "\n",
    "for question in questions:\n",
    "    result = graph.invoke({\"input\": question})\n",
    "    print(result[\"output\"])\n"
   ]
  }
 ],
 "metadata": {
  "kernelspec": {
   "display_name": ".venv",
   "language": "python",
   "name": "python3"
  },
  "language_info": {
   "codemirror_mode": {
    "name": "ipython",
    "version": 3
   },
   "file_extension": ".py",
   "mimetype": "text/x-python",
   "name": "python",
   "nbconvert_exporter": "python",
   "pygments_lexer": "ipython3",
   "version": "3.10.11"
  }
 },
 "nbformat": 4,
 "nbformat_minor": 2
}
